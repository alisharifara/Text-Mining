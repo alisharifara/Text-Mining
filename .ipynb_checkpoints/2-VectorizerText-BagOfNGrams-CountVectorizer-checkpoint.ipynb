{
 "cells": [
  {
   "cell_type": "markdown",
   "metadata": {},
   "source": [
    "### BagOfNGrams"
   ]
  },
  {
   "cell_type": "code",
   "execution_count": 3,
   "metadata": {},
   "outputs": [],
   "source": [
    "import sklearn\n",
    "from sklearn.feature_extraction.text import CountVectorizer\n",
    "from nltk.corpus import stopwords"
   ]
  },
  {
   "cell_type": "code",
   "execution_count": 4,
   "metadata": {},
   "outputs": [],
   "source": [
    "train_text = ['Data mining is the process of discovering patterns in large data sets', \n",
    "              'involving methods at the intersection of machine learning, statistics, and database systems.',\n",
    "              'Data mining is an interdisciplinary subfield of computer science and statistics with an overall goal', \n",
    "              'to extract information (with intelligent methods) from a dataset', \n",
    "              'transform the information into a comprehensible structure for further use.' ,\n",
    "              'Data mining is the analysis step of the \"knowledge discovery in databases\" process or KDD.',\n",
    "              'Aside from the raw analysis step, it also involves database and data management aspects',\n",
    "              'data pre-processing, model and inference considerations, interestingness metrics, ', \n",
    "              'complexity considerations, post-processing of discovered structures, visualization, and online updating.']"
   ]
  },
  {
   "cell_type": "code",
   "execution_count": 5,
   "metadata": {},
   "outputs": [],
   "source": [
    "# stopwords.words('english') returns list of stopwords in English\n",
    "nGram_vectorizer = CountVectorizer(ngram_range=(2,2),stop_words=stopwords.words('english'))"
   ]
  },
  {
   "cell_type": "code",
   "execution_count": 6,
   "metadata": {},
   "outputs": [
    {
     "data": {
      "text/plain": [
       "<9x59 sparse matrix of type '<class 'numpy.int64'>'\n",
       "\twith 62 stored elements in Compressed Sparse Row format>"
      ]
     },
     "execution_count": 6,
     "metadata": {},
     "output_type": "execute_result"
    }
   ],
   "source": [
    "nGram_vectorizer.fit_transform(train_text)"
   ]
  },
  {
   "cell_type": "code",
   "execution_count": 7,
   "metadata": {},
   "outputs": [
    {
     "data": {
      "text/plain": [
       "['also involves',\n",
       " 'analysis step',\n",
       " 'aside raw',\n",
       " 'complexity considerations',\n",
       " 'comprehensible structure',\n",
       " 'computer science',\n",
       " 'considerations interestingness',\n",
       " 'considerations post',\n",
       " 'data management',\n",
       " 'data mining',\n",
       " 'data pre',\n",
       " 'data sets',\n",
       " 'database data',\n",
       " 'database systems',\n",
       " 'databases process',\n",
       " 'discovered structures',\n",
       " 'discovering patterns',\n",
       " 'discovery databases',\n",
       " 'extract information',\n",
       " 'inference considerations',\n",
       " 'information comprehensible',\n",
       " 'information intelligent',\n",
       " 'intelligent methods',\n",
       " 'interdisciplinary subfield',\n",
       " 'interestingness metrics',\n",
       " 'intersection machine',\n",
       " 'involves database',\n",
       " 'involving methods',\n",
       " 'knowledge discovery',\n",
       " 'large data',\n",
       " 'learning statistics',\n",
       " 'machine learning',\n",
       " 'management aspects',\n",
       " 'methods dataset',\n",
       " 'methods intersection',\n",
       " 'mining analysis',\n",
       " 'mining interdisciplinary',\n",
       " 'mining process',\n",
       " 'model inference',\n",
       " 'online updating',\n",
       " 'overall goal',\n",
       " 'patterns large',\n",
       " 'post processing',\n",
       " 'pre processing',\n",
       " 'process discovering',\n",
       " 'process kdd',\n",
       " 'processing discovered',\n",
       " 'processing model',\n",
       " 'raw analysis',\n",
       " 'science statistics',\n",
       " 'statistics database',\n",
       " 'statistics overall',\n",
       " 'step also',\n",
       " 'step knowledge',\n",
       " 'structure use',\n",
       " 'structures visualization',\n",
       " 'subfield computer',\n",
       " 'transform information',\n",
       " 'visualization online']"
      ]
     },
     "execution_count": 7,
     "metadata": {},
     "output_type": "execute_result"
    }
   ],
   "source": [
    "nGram_vectorizer.get_feature_names()"
   ]
  },
  {
   "cell_type": "code",
   "execution_count": 8,
   "metadata": {},
   "outputs": [
    {
     "data": {
      "text/plain": [
       "{'data mining': 9,\n",
       " 'mining process': 37,\n",
       " 'process discovering': 44,\n",
       " 'discovering patterns': 16,\n",
       " 'patterns large': 41,\n",
       " 'large data': 29,\n",
       " 'data sets': 11,\n",
       " 'involving methods': 27,\n",
       " 'methods intersection': 34,\n",
       " 'intersection machine': 25,\n",
       " 'machine learning': 31,\n",
       " 'learning statistics': 30,\n",
       " 'statistics database': 50,\n",
       " 'database systems': 13,\n",
       " 'mining interdisciplinary': 36,\n",
       " 'interdisciplinary subfield': 23,\n",
       " 'subfield computer': 56,\n",
       " 'computer science': 5,\n",
       " 'science statistics': 49,\n",
       " 'statistics overall': 51,\n",
       " 'overall goal': 40,\n",
       " 'extract information': 18,\n",
       " 'information intelligent': 21,\n",
       " 'intelligent methods': 22,\n",
       " 'methods dataset': 33,\n",
       " 'transform information': 57,\n",
       " 'information comprehensible': 20,\n",
       " 'comprehensible structure': 4,\n",
       " 'structure use': 54,\n",
       " 'mining analysis': 35,\n",
       " 'analysis step': 1,\n",
       " 'step knowledge': 53,\n",
       " 'knowledge discovery': 28,\n",
       " 'discovery databases': 17,\n",
       " 'databases process': 14,\n",
       " 'process kdd': 45,\n",
       " 'aside raw': 2,\n",
       " 'raw analysis': 48,\n",
       " 'step also': 52,\n",
       " 'also involves': 0,\n",
       " 'involves database': 26,\n",
       " 'database data': 12,\n",
       " 'data management': 8,\n",
       " 'management aspects': 32,\n",
       " 'data pre': 10,\n",
       " 'pre processing': 43,\n",
       " 'processing model': 47,\n",
       " 'model inference': 38,\n",
       " 'inference considerations': 19,\n",
       " 'considerations interestingness': 6,\n",
       " 'interestingness metrics': 24,\n",
       " 'complexity considerations': 3,\n",
       " 'considerations post': 7,\n",
       " 'post processing': 42,\n",
       " 'processing discovered': 46,\n",
       " 'discovered structures': 15,\n",
       " 'structures visualization': 55,\n",
       " 'visualization online': 58,\n",
       " 'online updating': 39}"
      ]
     },
     "execution_count": 8,
     "metadata": {},
     "output_type": "execute_result"
    }
   ],
   "source": [
    "nGram_vectorizer.vocabulary_"
   ]
  },
  {
   "cell_type": "code",
   "execution_count": 9,
   "metadata": {},
   "outputs": [],
   "source": [
    "# It creates feature vectors from the training text\n",
    "transformed_vector = nGram_vectorizer.transform(train_text)"
   ]
  },
  {
   "cell_type": "code",
   "execution_count": 10,
   "metadata": {},
   "outputs": [
    {
     "data": {
      "text/plain": [
       "(9, 59)"
      ]
     },
     "execution_count": 10,
     "metadata": {},
     "output_type": "execute_result"
    }
   ],
   "source": [
    "# there are 9 sentences and 59 Bigram in our vocabulary\n",
    "transformed_vector.shape"
   ]
  },
  {
   "cell_type": "code",
   "execution_count": 11,
   "metadata": {},
   "outputs": [
    {
     "data": {
      "text/plain": [
       "array([[0, 0, 0, 0, 0, 0, 0, 0, 0, 1, 0, 1, 0, 0, 0, 0, 1, 0, 0, 0, 0, 0,\n",
       "        0, 0, 0, 0, 0, 0, 0, 1, 0, 0, 0, 0, 0, 0, 0, 1, 0, 0, 0, 1, 0, 0,\n",
       "        1, 0, 0, 0, 0, 0, 0, 0, 0, 0, 0, 0, 0, 0, 0],\n",
       "       [0, 0, 0, 0, 0, 0, 0, 0, 0, 0, 0, 0, 0, 1, 0, 0, 0, 0, 0, 0, 0, 0,\n",
       "        0, 0, 0, 1, 0, 1, 0, 0, 1, 1, 0, 0, 1, 0, 0, 0, 0, 0, 0, 0, 0, 0,\n",
       "        0, 0, 0, 0, 0, 0, 1, 0, 0, 0, 0, 0, 0, 0, 0],\n",
       "       [0, 0, 0, 0, 0, 1, 0, 0, 0, 1, 0, 0, 0, 0, 0, 0, 0, 0, 0, 0, 0, 0,\n",
       "        0, 1, 0, 0, 0, 0, 0, 0, 0, 0, 0, 0, 0, 0, 1, 0, 0, 0, 1, 0, 0, 0,\n",
       "        0, 0, 0, 0, 0, 1, 0, 1, 0, 0, 0, 0, 1, 0, 0],\n",
       "       [0, 0, 0, 0, 0, 0, 0, 0, 0, 0, 0, 0, 0, 0, 0, 0, 0, 0, 1, 0, 0, 1,\n",
       "        1, 0, 0, 0, 0, 0, 0, 0, 0, 0, 0, 1, 0, 0, 0, 0, 0, 0, 0, 0, 0, 0,\n",
       "        0, 0, 0, 0, 0, 0, 0, 0, 0, 0, 0, 0, 0, 0, 0],\n",
       "       [0, 0, 0, 0, 1, 0, 0, 0, 0, 0, 0, 0, 0, 0, 0, 0, 0, 0, 0, 0, 1, 0,\n",
       "        0, 0, 0, 0, 0, 0, 0, 0, 0, 0, 0, 0, 0, 0, 0, 0, 0, 0, 0, 0, 0, 0,\n",
       "        0, 0, 0, 0, 0, 0, 0, 0, 0, 0, 1, 0, 0, 1, 0],\n",
       "       [0, 1, 0, 0, 0, 0, 0, 0, 0, 1, 0, 0, 0, 0, 1, 0, 0, 1, 0, 0, 0, 0,\n",
       "        0, 0, 0, 0, 0, 0, 1, 0, 0, 0, 0, 0, 0, 1, 0, 0, 0, 0, 0, 0, 0, 0,\n",
       "        0, 1, 0, 0, 0, 0, 0, 0, 0, 1, 0, 0, 0, 0, 0],\n",
       "       [1, 1, 1, 0, 0, 0, 0, 0, 1, 0, 0, 0, 1, 0, 0, 0, 0, 0, 0, 0, 0, 0,\n",
       "        0, 0, 0, 0, 1, 0, 0, 0, 0, 0, 1, 0, 0, 0, 0, 0, 0, 0, 0, 0, 0, 0,\n",
       "        0, 0, 0, 0, 1, 0, 0, 0, 1, 0, 0, 0, 0, 0, 0],\n",
       "       [0, 0, 0, 0, 0, 0, 1, 0, 0, 0, 1, 0, 0, 0, 0, 0, 0, 0, 0, 1, 0, 0,\n",
       "        0, 0, 1, 0, 0, 0, 0, 0, 0, 0, 0, 0, 0, 0, 0, 0, 1, 0, 0, 0, 0, 1,\n",
       "        0, 0, 0, 1, 0, 0, 0, 0, 0, 0, 0, 0, 0, 0, 0],\n",
       "       [0, 0, 0, 1, 0, 0, 0, 1, 0, 0, 0, 0, 0, 0, 0, 1, 0, 0, 0, 0, 0, 0,\n",
       "        0, 0, 0, 0, 0, 0, 0, 0, 0, 0, 0, 0, 0, 0, 0, 0, 0, 1, 0, 0, 1, 0,\n",
       "        0, 0, 1, 0, 0, 0, 0, 0, 0, 0, 0, 1, 0, 0, 1]])"
      ]
     },
     "execution_count": 11,
     "metadata": {},
     "output_type": "execute_result"
    }
   ],
   "source": [
    "# converts to dense vector array (was sparse)\n",
    "transformed_vector.toarray()"
   ]
  },
  {
   "cell_type": "code",
   "execution_count": 12,
   "metadata": {},
   "outputs": [
    {
     "data": {
      "text/plain": [
       "[array(['data mining', 'data sets', 'discovering patterns', 'large data',\n",
       "        'mining process', 'patterns large', 'process discovering'],\n",
       "       dtype='<U30'),\n",
       " array(['database systems', 'intersection machine', 'involving methods',\n",
       "        'learning statistics', 'machine learning', 'methods intersection',\n",
       "        'statistics database'], dtype='<U30'),\n",
       " array(['computer science', 'data mining', 'interdisciplinary subfield',\n",
       "        'mining interdisciplinary', 'overall goal', 'science statistics',\n",
       "        'statistics overall', 'subfield computer'], dtype='<U30'),\n",
       " array(['extract information', 'information intelligent',\n",
       "        'intelligent methods', 'methods dataset'], dtype='<U30'),\n",
       " array(['comprehensible structure', 'information comprehensible',\n",
       "        'structure use', 'transform information'], dtype='<U30'),\n",
       " array(['analysis step', 'data mining', 'databases process',\n",
       "        'discovery databases', 'knowledge discovery', 'mining analysis',\n",
       "        'process kdd', 'step knowledge'], dtype='<U30'),\n",
       " array(['also involves', 'analysis step', 'aside raw', 'data management',\n",
       "        'database data', 'involves database', 'management aspects',\n",
       "        'raw analysis', 'step also'], dtype='<U30'),\n",
       " array(['considerations interestingness', 'data pre',\n",
       "        'inference considerations', 'interestingness metrics',\n",
       "        'model inference', 'pre processing', 'processing model'],\n",
       "       dtype='<U30'),\n",
       " array(['complexity considerations', 'considerations post',\n",
       "        'discovered structures', 'online updating', 'post processing',\n",
       "        'processing discovered', 'structures visualization',\n",
       "        'visualization online'], dtype='<U30')]"
      ]
     },
     "execution_count": 12,
     "metadata": {},
     "output_type": "execute_result"
    }
   ],
   "source": [
    "# re-generate sentence from transformed vector\n",
    "nGram_vectorizer.inverse_transform(transformed_vector)"
   ]
  },
  {
   "cell_type": "code",
   "execution_count": 13,
   "metadata": {},
   "outputs": [
    {
     "data": {
      "text/plain": [
       "array([[0, 0, 0, 0, 0, 0, 0, 0, 0, 0, 0, 0, 1, 0, 0, 0, 0, 0, 0, 0, 0, 0,\n",
       "        0, 0, 0, 0, 0, 0, 0, 0, 0, 0, 0, 0, 0, 0, 0, 0, 0, 0, 0, 0, 0, 0,\n",
       "        0, 0, 0, 0, 0, 0, 0, 0, 0, 0, 0, 0, 0, 0, 0]])"
      ]
     },
     "execution_count": 13,
     "metadata": {},
     "output_type": "execute_result"
    }
   ],
   "source": [
    "test_text = ['this is just a sample text for testing test_text database data']\n",
    "nGram_vectorizer.transform(test_text).toarray()"
   ]
  },
  {
   "cell_type": "code",
   "execution_count": null,
   "metadata": {},
   "outputs": [],
   "source": []
  }
 ],
 "metadata": {
  "kernelspec": {
   "display_name": "Python 3",
   "language": "python",
   "name": "python3"
  },
  "language_info": {
   "codemirror_mode": {
    "name": "ipython",
    "version": 3
   },
   "file_extension": ".py",
   "mimetype": "text/x-python",
   "name": "python",
   "nbconvert_exporter": "python",
   "pygments_lexer": "ipython3",
   "version": "3.6.8"
  }
 },
 "nbformat": 4,
 "nbformat_minor": 2
}
