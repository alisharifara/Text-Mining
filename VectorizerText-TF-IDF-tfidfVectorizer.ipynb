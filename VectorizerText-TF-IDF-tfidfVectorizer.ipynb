{
 "cells": [
  {
   "cell_type": "code",
   "execution_count": 9,
   "metadata": {},
   "outputs": [],
   "source": [
    "import sklearn\n",
    "from sklearn.feature_extraction.text import TfidfVectorizer\n",
    "from nltk.corpus import stopwords"
   ]
  },
  {
   "cell_type": "code",
   "execution_count": 10,
   "metadata": {},
   "outputs": [],
   "source": [
    "train_text = ['Data mining is the process of discovering patterns in large data sets', \n",
    "              'involving methods at the intersection of machine learning, statistics, and database systems.',\n",
    "              'Data mining is an interdisciplinary subfield of computer science and statistics with an overall goal', \n",
    "              'to extract information (with intelligent methods) from a dataset', \n",
    "              'transform the information into a comprehensible structure for further use.' ,\n",
    "              'Data mining is the analysis step of the \"knowledge discovery in databases\" process or KDD.',\n",
    "              'Aside from the raw analysis step, it also involves database and data management aspects',\n",
    "              'data pre-processing, model and inference considerations, interestingness metrics, ', \n",
    "              'complexity considerations, post-processing of discovered structures, visualization, and online updating.']"
   ]
  },
  {
   "cell_type": "code",
   "execution_count": 11,
   "metadata": {},
   "outputs": [],
   "source": [
    "tfidf_vectorizer = TfidfVectorizer()"
   ]
  },
  {
   "cell_type": "code",
   "execution_count": 14,
   "metadata": {},
   "outputs": [],
   "source": [
    "transformed_vector = tfidf_vectorizer.fit_transform(train_text)"
   ]
  },
  {
   "cell_type": "code",
   "execution_count": 15,
   "metadata": {},
   "outputs": [
    {
     "data": {
      "text/plain": [
       "{'data': 11,\n",
       " 'mining': 43,\n",
       " 'is': 33,\n",
       " 'the': 63,\n",
       " 'process': 52,\n",
       " 'of': 45,\n",
       " 'discovering': 16,\n",
       " 'patterns': 49,\n",
       " 'in': 23,\n",
       " 'large': 37,\n",
       " 'sets': 56,\n",
       " 'involving': 32,\n",
       " 'methods': 41,\n",
       " 'at': 6,\n",
       " 'intersection': 29,\n",
       " 'machine': 39,\n",
       " 'learning': 38,\n",
       " 'statistics': 57,\n",
       " 'and': 3,\n",
       " 'database': 12,\n",
       " 'systems': 62,\n",
       " 'an': 1,\n",
       " 'interdisciplinary': 27,\n",
       " 'subfield': 61,\n",
       " 'computer': 9,\n",
       " 'science': 55,\n",
       " 'with': 69,\n",
       " 'overall': 48,\n",
       " 'goal': 22,\n",
       " 'to': 64,\n",
       " 'extract': 18,\n",
       " 'information': 25,\n",
       " 'intelligent': 26,\n",
       " 'from': 20,\n",
       " 'dataset': 14,\n",
       " 'transform': 65,\n",
       " 'into': 30,\n",
       " 'comprehensible': 8,\n",
       " 'structure': 59,\n",
       " 'for': 19,\n",
       " 'further': 21,\n",
       " 'use': 67,\n",
       " 'analysis': 2,\n",
       " 'step': 58,\n",
       " 'knowledge': 36,\n",
       " 'discovery': 17,\n",
       " 'databases': 13,\n",
       " 'or': 47,\n",
       " 'kdd': 35,\n",
       " 'aside': 4,\n",
       " 'raw': 54,\n",
       " 'it': 34,\n",
       " 'also': 0,\n",
       " 'involves': 31,\n",
       " 'management': 40,\n",
       " 'aspects': 5,\n",
       " 'pre': 51,\n",
       " 'processing': 53,\n",
       " 'model': 44,\n",
       " 'inference': 24,\n",
       " 'considerations': 10,\n",
       " 'interestingness': 28,\n",
       " 'metrics': 42,\n",
       " 'complexity': 7,\n",
       " 'post': 50,\n",
       " 'discovered': 15,\n",
       " 'structures': 60,\n",
       " 'visualization': 68,\n",
       " 'online': 46,\n",
       " 'updating': 66}"
      ]
     },
     "execution_count": 15,
     "metadata": {},
     "output_type": "execute_result"
    }
   ],
   "source": [
    "tfidf_vectorizer.vocabulary_"
   ]
  },
  {
   "cell_type": "code",
   "execution_count": 16,
   "metadata": {},
   "outputs": [],
   "source": [
    "# It creates feature vectors from the training text\n",
    "transformed_vector = tfidf_vectorizer.transform(train_text)"
   ]
  },
  {
   "cell_type": "code",
   "execution_count": 19,
   "metadata": {},
   "outputs": [
    {
     "data": {
      "text/plain": [
       "(9, 70)"
      ]
     },
     "execution_count": 19,
     "metadata": {},
     "output_type": "execute_result"
    }
   ],
   "source": [
    "# there are 9 sentences and 70 words in our vocabulary\n",
    "transformed_vector.shape"
   ]
  },
  {
   "cell_type": "code",
   "execution_count": 18,
   "metadata": {},
   "outputs": [
    {
     "data": {
      "text/plain": [
       "array([[0.        , 0.        , 0.        , 0.        , 0.        ,\n",
       "        0.        , 0.        , 0.        , 0.        , 0.        ,\n",
       "        0.        , 0.39679111, 0.        , 0.        , 0.        ,\n",
       "        0.        , 0.34266091, 0.        , 0.        , 0.        ,\n",
       "        0.        , 0.        , 0.        , 0.28941686, 0.        ,\n",
       "        0.        , 0.        , 0.        , 0.        , 0.        ,\n",
       "        0.        , 0.        , 0.        , 0.25163961, 0.        ,\n",
       "        0.        , 0.        , 0.34266091, 0.        , 0.        ,\n",
       "        0.        , 0.        , 0.        , 0.25163961, 0.        ,\n",
       "        0.19839556, 0.        , 0.        , 0.        , 0.34266091,\n",
       "        0.        , 0.        , 0.28941686, 0.        , 0.        ,\n",
       "        0.        , 0.34266091, 0.        , 0.        , 0.        ,\n",
       "        0.        , 0.        , 0.        , 0.19839556, 0.        ,\n",
       "        0.        , 0.        , 0.        , 0.        , 0.        ],\n",
       "       [0.        , 0.        , 0.        , 0.19145052, 0.        ,\n",
       "        0.        , 0.33066571, 0.        , 0.        , 0.        ,\n",
       "        0.        , 0.        , 0.27928553, 0.        , 0.        ,\n",
       "        0.        , 0.        , 0.        , 0.        , 0.        ,\n",
       "        0.        , 0.        , 0.        , 0.        , 0.        ,\n",
       "        0.        , 0.        , 0.        , 0.        , 0.33066571,\n",
       "        0.        , 0.        , 0.33066571, 0.        , 0.        ,\n",
       "        0.        , 0.        , 0.        , 0.33066571, 0.33066571,\n",
       "        0.        , 0.27928553, 0.        , 0.        , 0.        ,\n",
       "        0.19145052, 0.        , 0.        , 0.        , 0.        ,\n",
       "        0.        , 0.        , 0.        , 0.        , 0.        ,\n",
       "        0.        , 0.        , 0.27928553, 0.        , 0.        ,\n",
       "        0.        , 0.        , 0.33066571, 0.19145052, 0.        ,\n",
       "        0.        , 0.        , 0.        , 0.        , 0.        ],\n",
       "       [0.        , 0.54410903, 0.        , 0.15751551, 0.        ,\n",
       "        0.        , 0.        , 0.        , 0.        , 0.27205452,\n",
       "        0.        , 0.15751551, 0.        , 0.        , 0.        ,\n",
       "        0.        , 0.        , 0.        , 0.        , 0.        ,\n",
       "        0.        , 0.        , 0.27205452, 0.        , 0.        ,\n",
       "        0.        , 0.        , 0.27205452, 0.        , 0.        ,\n",
       "        0.        , 0.        , 0.        , 0.19978845, 0.        ,\n",
       "        0.        , 0.        , 0.        , 0.        , 0.        ,\n",
       "        0.        , 0.        , 0.        , 0.19978845, 0.        ,\n",
       "        0.15751551, 0.        , 0.        , 0.27205452, 0.        ,\n",
       "        0.        , 0.        , 0.        , 0.        , 0.        ,\n",
       "        0.27205452, 0.        , 0.22978158, 0.        , 0.        ,\n",
       "        0.        , 0.27205452, 0.        , 0.        , 0.        ,\n",
       "        0.        , 0.        , 0.        , 0.        , 0.22978158],\n",
       "       [0.        , 0.        , 0.        , 0.        , 0.        ,\n",
       "        0.        , 0.        , 0.        , 0.        , 0.        ,\n",
       "        0.        , 0.        , 0.        , 0.        , 0.38198267,\n",
       "        0.        , 0.        , 0.        , 0.38198267, 0.        ,\n",
       "        0.32262864, 0.        , 0.        , 0.        , 0.        ,\n",
       "        0.32262864, 0.38198267, 0.        , 0.        , 0.        ,\n",
       "        0.        , 0.        , 0.        , 0.        , 0.        ,\n",
       "        0.        , 0.        , 0.        , 0.        , 0.        ,\n",
       "        0.        , 0.32262864, 0.        , 0.        , 0.        ,\n",
       "        0.        , 0.        , 0.        , 0.        , 0.        ,\n",
       "        0.        , 0.        , 0.        , 0.        , 0.        ,\n",
       "        0.        , 0.        , 0.        , 0.        , 0.        ,\n",
       "        0.        , 0.        , 0.        , 0.        , 0.38198267,\n",
       "        0.        , 0.        , 0.        , 0.        , 0.32262864],\n",
       "       [0.        , 0.        , 0.        , 0.        , 0.        ,\n",
       "        0.        , 0.        , 0.        , 0.35248435, 0.        ,\n",
       "        0.        , 0.        , 0.        , 0.        , 0.        ,\n",
       "        0.        , 0.        , 0.        , 0.        , 0.35248435,\n",
       "        0.        , 0.35248435, 0.        , 0.        , 0.        ,\n",
       "        0.29771389, 0.        , 0.        , 0.        , 0.        ,\n",
       "        0.35248435, 0.        , 0.        , 0.        , 0.        ,\n",
       "        0.        , 0.        , 0.        , 0.        , 0.        ,\n",
       "        0.        , 0.        , 0.        , 0.        , 0.        ,\n",
       "        0.        , 0.        , 0.        , 0.        , 0.        ,\n",
       "        0.        , 0.        , 0.        , 0.        , 0.        ,\n",
       "        0.        , 0.        , 0.        , 0.        , 0.35248435,\n",
       "        0.        , 0.        , 0.        , 0.20408318, 0.        ,\n",
       "        0.35248435, 0.        , 0.35248435, 0.        , 0.        ],\n",
       "       [0.        , 0.        , 0.2553185 , 0.        , 0.        ,\n",
       "        0.        , 0.        , 0.        , 0.        , 0.        ,\n",
       "        0.        , 0.17502109, 0.        , 0.30228947, 0.        ,\n",
       "        0.        , 0.        , 0.30228947, 0.        , 0.        ,\n",
       "        0.        , 0.        , 0.        , 0.2553185 , 0.        ,\n",
       "        0.        , 0.        , 0.        , 0.        , 0.        ,\n",
       "        0.        , 0.        , 0.        , 0.22199206, 0.        ,\n",
       "        0.30228947, 0.30228947, 0.        , 0.        , 0.        ,\n",
       "        0.        , 0.        , 0.        , 0.22199206, 0.        ,\n",
       "        0.17502109, 0.        , 0.30228947, 0.        , 0.        ,\n",
       "        0.        , 0.        , 0.2553185 , 0.        , 0.        ,\n",
       "        0.        , 0.        , 0.        , 0.2553185 , 0.        ,\n",
       "        0.        , 0.        , 0.        , 0.35004218, 0.        ,\n",
       "        0.        , 0.        , 0.        , 0.        , 0.        ],\n",
       "       [0.30346009, 0.        , 0.25630722, 0.17569886, 0.30346009,\n",
       "        0.30346009, 0.        , 0.        , 0.        , 0.        ,\n",
       "        0.        , 0.17569886, 0.25630722, 0.        , 0.        ,\n",
       "        0.        , 0.        , 0.        , 0.        , 0.        ,\n",
       "        0.25630722, 0.        , 0.        , 0.        , 0.        ,\n",
       "        0.        , 0.        , 0.        , 0.        , 0.        ,\n",
       "        0.        , 0.30346009, 0.        , 0.        , 0.30346009,\n",
       "        0.        , 0.        , 0.        , 0.        , 0.        ,\n",
       "        0.30346009, 0.        , 0.        , 0.        , 0.        ,\n",
       "        0.        , 0.        , 0.        , 0.        , 0.        ,\n",
       "        0.        , 0.        , 0.        , 0.        , 0.30346009,\n",
       "        0.        , 0.        , 0.        , 0.25630722, 0.        ,\n",
       "        0.        , 0.        , 0.        , 0.17569886, 0.        ,\n",
       "        0.        , 0.        , 0.        , 0.        , 0.        ],\n",
       "       [0.        , 0.        , 0.        , 0.21733209, 0.        ,\n",
       "        0.        , 0.        , 0.        , 0.        , 0.        ,\n",
       "        0.31704124, 0.21733209, 0.        , 0.        , 0.        ,\n",
       "        0.        , 0.        , 0.        , 0.        , 0.        ,\n",
       "        0.        , 0.        , 0.        , 0.        , 0.37536735,\n",
       "        0.        , 0.        , 0.        , 0.37536735, 0.        ,\n",
       "        0.        , 0.        , 0.        , 0.        , 0.        ,\n",
       "        0.        , 0.        , 0.        , 0.        , 0.        ,\n",
       "        0.        , 0.        , 0.37536735, 0.        , 0.37536735,\n",
       "        0.        , 0.        , 0.        , 0.        , 0.        ,\n",
       "        0.        , 0.37536735, 0.        , 0.31704124, 0.        ,\n",
       "        0.        , 0.        , 0.        , 0.        , 0.        ,\n",
       "        0.        , 0.        , 0.        , 0.        , 0.        ,\n",
       "        0.        , 0.        , 0.        , 0.        , 0.        ],\n",
       "       [0.        , 0.        , 0.        , 0.19196123, 0.        ,\n",
       "        0.        , 0.        , 0.33154779, 0.        , 0.        ,\n",
       "        0.28003054, 0.        , 0.        , 0.        , 0.        ,\n",
       "        0.33154779, 0.        , 0.        , 0.        , 0.        ,\n",
       "        0.        , 0.        , 0.        , 0.        , 0.        ,\n",
       "        0.        , 0.        , 0.        , 0.        , 0.        ,\n",
       "        0.        , 0.        , 0.        , 0.        , 0.        ,\n",
       "        0.        , 0.        , 0.        , 0.        , 0.        ,\n",
       "        0.        , 0.        , 0.        , 0.        , 0.        ,\n",
       "        0.19196123, 0.33154779, 0.        , 0.        , 0.        ,\n",
       "        0.33154779, 0.        , 0.        , 0.28003054, 0.        ,\n",
       "        0.        , 0.        , 0.        , 0.        , 0.        ,\n",
       "        0.33154779, 0.        , 0.        , 0.        , 0.        ,\n",
       "        0.        , 0.33154779, 0.        , 0.33154779, 0.        ]])"
      ]
     },
     "execution_count": 18,
     "metadata": {},
     "output_type": "execute_result"
    }
   ],
   "source": [
    "# converts to dense vector array (was sparse)\n",
    "transformed_vector.toarray()"
   ]
  },
  {
   "cell_type": "code",
   "execution_count": 25,
   "metadata": {},
   "outputs": [
    {
     "data": {
      "text/plain": [
       "array([2.60943791, 2.60943791, 2.2039728 , 1.51082562, 2.60943791,\n",
       "       2.60943791, 2.60943791, 2.60943791, 2.60943791, 2.60943791,\n",
       "       2.2039728 , 1.51082562, 2.2039728 , 2.60943791, 2.60943791,\n",
       "       2.60943791, 2.60943791, 2.60943791, 2.60943791, 2.60943791,\n",
       "       2.2039728 , 2.60943791, 2.60943791, 2.2039728 , 2.60943791,\n",
       "       2.2039728 , 2.60943791, 2.60943791, 2.60943791, 2.60943791,\n",
       "       2.60943791, 2.60943791, 2.60943791, 1.91629073, 2.60943791,\n",
       "       2.60943791, 2.60943791, 2.60943791, 2.60943791, 2.60943791,\n",
       "       2.60943791, 2.2039728 , 2.60943791, 1.91629073, 2.60943791,\n",
       "       1.51082562, 2.60943791, 2.60943791, 2.60943791, 2.60943791,\n",
       "       2.60943791, 2.60943791, 2.2039728 , 2.2039728 , 2.60943791,\n",
       "       2.60943791, 2.60943791, 2.2039728 , 2.2039728 , 2.60943791,\n",
       "       2.60943791, 2.60943791, 2.60943791, 1.51082562, 2.60943791,\n",
       "       2.60943791, 2.60943791, 2.60943791, 2.60943791, 2.2039728 ])"
      ]
     },
     "execution_count": 25,
     "metadata": {},
     "output_type": "execute_result"
    }
   ],
   "source": [
    "# idf score of each individual word - frequent words have low score and rare words have hight scores\n",
    "tfidf_vectorizer.idf_"
   ]
  },
  {
   "cell_type": "code",
   "execution_count": 27,
   "metadata": {},
   "outputs": [
    {
     "data": {
      "text/plain": [
       "[('also', 2.6094379124341005),\n",
       " ('an', 2.6094379124341005),\n",
       " ('analysis', 2.203972804325936),\n",
       " ('and', 1.5108256237659907),\n",
       " ('aside', 2.6094379124341005),\n",
       " ('aspects', 2.6094379124341005),\n",
       " ('at', 2.6094379124341005),\n",
       " ('complexity', 2.6094379124341005),\n",
       " ('comprehensible', 2.6094379124341005),\n",
       " ('computer', 2.6094379124341005),\n",
       " ('considerations', 2.203972804325936),\n",
       " ('data', 1.5108256237659907),\n",
       " ('database', 2.203972804325936),\n",
       " ('databases', 2.6094379124341005),\n",
       " ('dataset', 2.6094379124341005),\n",
       " ('discovered', 2.6094379124341005),\n",
       " ('discovering', 2.6094379124341005),\n",
       " ('discovery', 2.6094379124341005),\n",
       " ('extract', 2.6094379124341005),\n",
       " ('for', 2.6094379124341005),\n",
       " ('from', 2.203972804325936),\n",
       " ('further', 2.6094379124341005),\n",
       " ('goal', 2.6094379124341005),\n",
       " ('in', 2.203972804325936),\n",
       " ('inference', 2.6094379124341005),\n",
       " ('information', 2.203972804325936),\n",
       " ('intelligent', 2.6094379124341005),\n",
       " ('interdisciplinary', 2.6094379124341005),\n",
       " ('interestingness', 2.6094379124341005),\n",
       " ('intersection', 2.6094379124341005),\n",
       " ('into', 2.6094379124341005),\n",
       " ('involves', 2.6094379124341005),\n",
       " ('involving', 2.6094379124341005),\n",
       " ('is', 1.916290731874155),\n",
       " ('it', 2.6094379124341005),\n",
       " ('kdd', 2.6094379124341005),\n",
       " ('knowledge', 2.6094379124341005),\n",
       " ('large', 2.6094379124341005),\n",
       " ('learning', 2.6094379124341005),\n",
       " ('machine', 2.6094379124341005),\n",
       " ('management', 2.6094379124341005),\n",
       " ('methods', 2.203972804325936),\n",
       " ('metrics', 2.6094379124341005),\n",
       " ('mining', 1.916290731874155),\n",
       " ('model', 2.6094379124341005),\n",
       " ('of', 1.5108256237659907),\n",
       " ('online', 2.6094379124341005),\n",
       " ('or', 2.6094379124341005),\n",
       " ('overall', 2.6094379124341005),\n",
       " ('patterns', 2.6094379124341005),\n",
       " ('post', 2.6094379124341005),\n",
       " ('pre', 2.6094379124341005),\n",
       " ('process', 2.203972804325936),\n",
       " ('processing', 2.203972804325936),\n",
       " ('raw', 2.6094379124341005),\n",
       " ('science', 2.6094379124341005),\n",
       " ('sets', 2.6094379124341005),\n",
       " ('statistics', 2.203972804325936),\n",
       " ('step', 2.203972804325936),\n",
       " ('structure', 2.6094379124341005),\n",
       " ('structures', 2.6094379124341005),\n",
       " ('subfield', 2.6094379124341005),\n",
       " ('systems', 2.6094379124341005),\n",
       " ('the', 1.5108256237659907),\n",
       " ('to', 2.6094379124341005),\n",
       " ('transform', 2.6094379124341005),\n",
       " ('updating', 2.6094379124341005),\n",
       " ('use', 2.6094379124341005),\n",
       " ('visualization', 2.6094379124341005),\n",
       " ('with', 2.203972804325936)]"
      ]
     },
     "execution_count": 27,
     "metadata": {},
     "output_type": "execute_result"
    }
   ],
   "source": [
    "# for ex. data (1.5) is common words in out corpus and discovering (2.60) is not common word in out corpus\n",
    "list(zip(tfidf_vectorizer.get_feature_names(), tfidf_vectorizer.idf_))"
   ]
  },
  {
   "cell_type": "code",
   "execution_count": 28,
   "metadata": {},
   "outputs": [
    {
     "data": {
      "text/plain": [
       "[array(['the', 'sets', 'process', 'patterns', 'of', 'mining', 'large',\n",
       "        'is', 'in', 'discovering', 'data'], dtype='<U17'),\n",
       " array(['the', 'systems', 'statistics', 'of', 'methods', 'machine',\n",
       "        'learning', 'involving', 'intersection', 'database', 'at', 'and'],\n",
       "       dtype='<U17'),\n",
       " array(['with', 'subfield', 'statistics', 'science', 'overall', 'of',\n",
       "        'mining', 'is', 'interdisciplinary', 'goal', 'data', 'computer',\n",
       "        'and', 'an'], dtype='<U17'),\n",
       " array(['with', 'to', 'methods', 'intelligent', 'information', 'from',\n",
       "        'extract', 'dataset'], dtype='<U17'),\n",
       " array(['use', 'transform', 'the', 'structure', 'into', 'information',\n",
       "        'further', 'for', 'comprehensible'], dtype='<U17'),\n",
       " array(['the', 'step', 'process', 'or', 'of', 'mining', 'knowledge', 'kdd',\n",
       "        'is', 'in', 'discovery', 'databases', 'data', 'analysis'],\n",
       "       dtype='<U17'),\n",
       " array(['the', 'step', 'raw', 'management', 'it', 'involves', 'from',\n",
       "        'database', 'data', 'aspects', 'aside', 'and', 'analysis', 'also'],\n",
       "       dtype='<U17'),\n",
       " array(['processing', 'pre', 'model', 'metrics', 'interestingness',\n",
       "        'inference', 'data', 'considerations', 'and'], dtype='<U17'),\n",
       " array(['visualization', 'updating', 'structures', 'processing', 'post',\n",
       "        'online', 'of', 'discovered', 'considerations', 'complexity',\n",
       "        'and'], dtype='<U17')]"
      ]
     },
     "execution_count": 28,
     "metadata": {},
     "output_type": "execute_result"
    }
   ],
   "source": [
    "# re-generate sentence from transformed vector\n",
    "# The order of words is lost!\n",
    "tfidf_vectorizer.inverse_transform(transformed_vector)"
   ]
  },
  {
   "cell_type": "code",
   "execution_count": null,
   "metadata": {},
   "outputs": [],
   "source": []
  },
  {
   "cell_type": "code",
   "execution_count": null,
   "metadata": {},
   "outputs": [],
   "source": []
  }
 ],
 "metadata": {
  "kernelspec": {
   "display_name": "Python 3",
   "language": "python",
   "name": "python3"
  },
  "language_info": {
   "codemirror_mode": {
    "name": "ipython",
    "version": 3
   },
   "file_extension": ".py",
   "mimetype": "text/x-python",
   "name": "python",
   "nbconvert_exporter": "python",
   "pygments_lexer": "ipython3",
   "version": "3.6.8"
  }
 },
 "nbformat": 4,
 "nbformat_minor": 2
}
