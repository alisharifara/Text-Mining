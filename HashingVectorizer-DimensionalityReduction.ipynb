{
 "cells": [
  {
   "cell_type": "code",
   "execution_count": 29,
   "metadata": {},
   "outputs": [],
   "source": [
    "from sklearn.feature_extraction.text import HashingVectorizer\n",
    "from nltk.corpus import stopwords\n",
    "\n",
    "#HashingVectorizer can be used for Dimensionality Reduction\n",
    "#hashing vectorizdr is one-day transformation. \n",
    "#there is no way to get original words once we have converted them into hash vector"
   ]
  },
  {
   "cell_type": "code",
   "execution_count": 30,
   "metadata": {},
   "outputs": [],
   "source": [
    "train_text = ['Data mining is the process of discovering patterns in large data sets', \n",
    "              'involving methods at the intersection of machine learning, statistics, and database systems.',\n",
    "              'Data mining is an interdisciplinary subfield of computer science and statistics with an overall goal', \n",
    "              'to extract information (with intelligent methods) from a dataset', \n",
    "              'transform the information into a comprehensible structure for further use.' ,\n",
    "              'Data mining is the analysis step of the \"knowledge discovery in databases\" process or KDD.',\n",
    "              'Aside from the raw analysis step, it also involves database and data management aspects',\n",
    "              'data pre-processing, model and inference considerations, interestingness metrics, ', \n",
    "              'complexity considerations, post-processing of discovered structures, visualization, and online updating.']"
   ]
  },
  {
   "cell_type": "code",
   "execution_count": 31,
   "metadata": {},
   "outputs": [],
   "source": [
    "#alternate_sign: generates only positive values for the hash vector\n",
    "vectorizer = HashingVectorizer(n_features=8, norm=None, alternate_sign=False)"
   ]
  },
  {
   "cell_type": "code",
   "execution_count": 32,
   "metadata": {},
   "outputs": [],
   "source": [
    "hash_vector = vectorizer.transform(train_text)"
   ]
  },
  {
   "cell_type": "code",
   "execution_count": 33,
   "metadata": {},
   "outputs": [
    {
     "data": {
      "text/plain": [
       "(9, 8)"
      ]
     },
     "execution_count": 33,
     "metadata": {},
     "output_type": "execute_result"
    }
   ],
   "source": [
    "hash_vector.shape"
   ]
  },
  {
   "cell_type": "code",
   "execution_count": 34,
   "metadata": {},
   "outputs": [
    {
     "data": {
      "text/plain": [
       "array([[1., 2., 0., 3., 1., 3., 2., 0.],\n",
       "       [3., 1., 2., 0., 2., 2., 2., 0.],\n",
       "       [1., 4., 1., 2., 2., 4., 0., 1.],\n",
       "       [2., 0., 1., 2., 2., 0., 0., 1.],\n",
       "       [0., 0., 1., 3., 1., 2., 1., 1.],\n",
       "       [1., 1., 2., 3., 1., 2., 3., 2.],\n",
       "       [2., 0., 1., 3., 2., 3., 2., 1.],\n",
       "       [2., 0., 2., 2., 1., 1., 1., 0.],\n",
       "       [1., 2., 2., 0., 3., 2., 1., 0.]])"
      ]
     },
     "execution_count": 34,
     "metadata": {},
     "output_type": "execute_result"
    }
   ],
   "source": [
    "hash_vector.toarray()"
   ]
  },
  {
   "cell_type": "code",
   "execution_count": 28,
   "metadata": {},
   "outputs": [],
   "source": []
  }
 ],
 "metadata": {
  "kernelspec": {
   "display_name": "Python 3",
   "language": "python",
   "name": "python3"
  },
  "language_info": {
   "codemirror_mode": {
    "name": "ipython",
    "version": 3
   },
   "file_extension": ".py",
   "mimetype": "text/x-python",
   "name": "python",
   "nbconvert_exporter": "python",
   "pygments_lexer": "ipython3",
   "version": "3.6.8"
  }
 },
 "nbformat": 4,
 "nbformat_minor": 2
}
