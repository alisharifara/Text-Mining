{
 "cells": [
  {
   "cell_type": "code",
   "execution_count": 3,
   "metadata": {},
   "outputs": [],
   "source": [
    "import sklearn\n",
    "from sklearn.feature_extraction.text import CountVectorizer\n",
    "from nltk.corpus import stopwords"
   ]
  },
  {
   "cell_type": "code",
   "execution_count": 5,
   "metadata": {},
   "outputs": [],
   "source": [
    "train_text = ['Data mining is the process of discovering patterns in large data sets', \n",
    "              'involving methods at the intersection of machine learning, statistics, and database systems.',\n",
    "              'Data mining is an interdisciplinary subfield of computer science and statistics with an overall goal', \n",
    "              'to extract information (with intelligent methods) from a dataset', \n",
    "              'transform the information into a comprehensible structure for further use.' ,\n",
    "              'Data mining is the analysis step of the \"knowledge discovery in databases\" process or KDD.',\n",
    "              'Aside from the raw analysis step, it also involves database and data management aspects',\n",
    "              'data pre-processing, model and inference considerations, interestingness metrics, ', \n",
    "              'complexity considerations, post-processing of discovered structures, visualization, and online updating.']"
   ]
  },
  {
   "cell_type": "code",
   "execution_count": 36,
   "metadata": {},
   "outputs": [],
   "source": [
    "# stopwords.words('english') returns list of stopwords in English\n",
    "count_vectorizer = CountVectorizer(stop_words=stopwords.words('english'))"
   ]
  },
  {
   "cell_type": "code",
   "execution_count": 37,
   "metadata": {},
   "outputs": [
    {
     "data": {
      "text/plain": [
       "CountVectorizer(analyzer='word', binary=False, decode_error='strict',\n",
       "        dtype=<class 'numpy.int64'>, encoding='utf-8', input='content',\n",
       "        lowercase=True, max_df=1.0, max_features=None, min_df=1,\n",
       "        ngram_range=(1, 1), preprocessor=None,\n",
       "        stop_words=['i', 'me', 'my', 'myself', 'we', 'our', 'ours', 'ourselves', 'you', \"you're\", \"you've\", \"you'll\", \"you'd\", 'your', 'yours', 'yourself', 'yourselves', 'he', 'him', 'his', 'himself', 'she', \"she's\", 'her', 'hers', 'herself', 'it', \"it's\", 'its', 'itself', 'they', 'them', 'their', 'theirs',... 'shouldn', \"shouldn't\", 'wasn', \"wasn't\", 'weren', \"weren't\", 'won', \"won't\", 'wouldn', \"wouldn't\"],\n",
       "        strip_accents=None, token_pattern='(?u)\\\\b\\\\w\\\\w+\\\\b',\n",
       "        tokenizer=None, vocabulary=None)"
      ]
     },
     "execution_count": 37,
     "metadata": {},
     "output_type": "execute_result"
    }
   ],
   "source": [
    "count_vectorizer.fit(train_text)"
   ]
  },
  {
   "cell_type": "code",
   "execution_count": 34,
   "metadata": {},
   "outputs": [
    {
     "data": {
      "text/plain": [
       "['also',\n",
       " 'analysis',\n",
       " 'aside',\n",
       " 'aspects',\n",
       " 'complexity',\n",
       " 'comprehensible',\n",
       " 'computer',\n",
       " 'considerations',\n",
       " 'data',\n",
       " 'database',\n",
       " 'databases',\n",
       " 'dataset',\n",
       " 'discovered',\n",
       " 'discovering',\n",
       " 'discovery',\n",
       " 'extract',\n",
       " 'goal',\n",
       " 'inference',\n",
       " 'information',\n",
       " 'intelligent',\n",
       " 'interdisciplinary',\n",
       " 'interestingness',\n",
       " 'intersection',\n",
       " 'involves',\n",
       " 'involving',\n",
       " 'kdd',\n",
       " 'knowledge',\n",
       " 'large',\n",
       " 'learning',\n",
       " 'machine',\n",
       " 'management',\n",
       " 'methods',\n",
       " 'metrics',\n",
       " 'mining',\n",
       " 'model',\n",
       " 'online',\n",
       " 'overall',\n",
       " 'patterns',\n",
       " 'post',\n",
       " 'pre',\n",
       " 'process',\n",
       " 'processing',\n",
       " 'raw',\n",
       " 'science',\n",
       " 'sets',\n",
       " 'statistics',\n",
       " 'step',\n",
       " 'structure',\n",
       " 'structures',\n",
       " 'subfield',\n",
       " 'systems',\n",
       " 'transform',\n",
       " 'updating',\n",
       " 'use',\n",
       " 'visualization']"
      ]
     },
     "execution_count": 34,
     "metadata": {},
     "output_type": "execute_result"
    }
   ],
   "source": [
    "count_vectorizer.get_feature_names()"
   ]
  },
  {
   "cell_type": "code",
   "execution_count": 35,
   "metadata": {},
   "outputs": [
    {
     "data": {
      "text/plain": [
       "{'data': 8,\n",
       " 'mining': 33,\n",
       " 'process': 40,\n",
       " 'discovering': 13,\n",
       " 'patterns': 37,\n",
       " 'large': 27,\n",
       " 'sets': 44,\n",
       " 'involving': 24,\n",
       " 'methods': 31,\n",
       " 'intersection': 22,\n",
       " 'machine': 29,\n",
       " 'learning': 28,\n",
       " 'statistics': 45,\n",
       " 'database': 9,\n",
       " 'systems': 50,\n",
       " 'interdisciplinary': 20,\n",
       " 'subfield': 49,\n",
       " 'computer': 6,\n",
       " 'science': 43,\n",
       " 'overall': 36,\n",
       " 'goal': 16,\n",
       " 'extract': 15,\n",
       " 'information': 18,\n",
       " 'intelligent': 19,\n",
       " 'dataset': 11,\n",
       " 'transform': 51,\n",
       " 'comprehensible': 5,\n",
       " 'structure': 47,\n",
       " 'use': 53,\n",
       " 'analysis': 1,\n",
       " 'step': 46,\n",
       " 'knowledge': 26,\n",
       " 'discovery': 14,\n",
       " 'databases': 10,\n",
       " 'kdd': 25,\n",
       " 'aside': 2,\n",
       " 'raw': 42,\n",
       " 'also': 0,\n",
       " 'involves': 23,\n",
       " 'management': 30,\n",
       " 'aspects': 3,\n",
       " 'pre': 39,\n",
       " 'processing': 41,\n",
       " 'model': 34,\n",
       " 'inference': 17,\n",
       " 'considerations': 7,\n",
       " 'interestingness': 21,\n",
       " 'metrics': 32,\n",
       " 'complexity': 4,\n",
       " 'post': 38,\n",
       " 'discovered': 12,\n",
       " 'structures': 48,\n",
       " 'visualization': 54,\n",
       " 'online': 35,\n",
       " 'updating': 52}"
      ]
     },
     "execution_count": 35,
     "metadata": {},
     "output_type": "execute_result"
    }
   ],
   "source": [
    "count_vectorizer.vocabulary_"
   ]
  },
  {
   "cell_type": "code",
   "execution_count": 29,
   "metadata": {},
   "outputs": [
    {
     "data": {
      "text/plain": [
       "10"
      ]
     },
     "execution_count": 29,
     "metadata": {},
     "output_type": "execute_result"
    }
   ],
   "source": [
    "# it returns the ID for specific word.\n",
    "count_vectorizer.vocabulary_.get('databases')"
   ]
  },
  {
   "cell_type": "code",
   "execution_count": 40,
   "metadata": {},
   "outputs": [],
   "source": [
    "# It creates feature vectors from the training text\n",
    "transformed_vector = count_vectorizer.transform(train_text)"
   ]
  },
  {
   "cell_type": "code",
   "execution_count": 43,
   "metadata": {},
   "outputs": [
    {
     "data": {
      "text/plain": [
       "(9, 55)"
      ]
     },
     "execution_count": 43,
     "metadata": {},
     "output_type": "execute_result"
    }
   ],
   "source": [
    "# there are 9 sentences and 55 unique words in our vocabulary\n",
    "transformed_vector.shape"
   ]
  },
  {
   "cell_type": "code",
   "execution_count": 45,
   "metadata": {},
   "outputs": [
    {
     "data": {
      "text/plain": [
       "array([[0, 0, 0, 0, 0, 0, 0, 0, 2, 0, 0, 0, 0, 1, 0, 0, 0, 0, 0, 0, 0, 0,\n",
       "        0, 0, 0, 0, 0, 1, 0, 0, 0, 0, 0, 1, 0, 0, 0, 1, 0, 0, 1, 0, 0, 0,\n",
       "        1, 0, 0, 0, 0, 0, 0, 0, 0, 0, 0],\n",
       "       [0, 0, 0, 0, 0, 0, 0, 0, 0, 1, 0, 0, 0, 0, 0, 0, 0, 0, 0, 0, 0, 0,\n",
       "        1, 0, 1, 0, 0, 0, 1, 1, 0, 1, 0, 0, 0, 0, 0, 0, 0, 0, 0, 0, 0, 0,\n",
       "        0, 1, 0, 0, 0, 0, 1, 0, 0, 0, 0],\n",
       "       [0, 0, 0, 0, 0, 0, 1, 0, 1, 0, 0, 0, 0, 0, 0, 0, 1, 0, 0, 0, 1, 0,\n",
       "        0, 0, 0, 0, 0, 0, 0, 0, 0, 0, 0, 1, 0, 0, 1, 0, 0, 0, 0, 0, 0, 1,\n",
       "        0, 1, 0, 0, 0, 1, 0, 0, 0, 0, 0],\n",
       "       [0, 0, 0, 0, 0, 0, 0, 0, 0, 0, 0, 1, 0, 0, 0, 1, 0, 0, 1, 1, 0, 0,\n",
       "        0, 0, 0, 0, 0, 0, 0, 0, 0, 1, 0, 0, 0, 0, 0, 0, 0, 0, 0, 0, 0, 0,\n",
       "        0, 0, 0, 0, 0, 0, 0, 0, 0, 0, 0],\n",
       "       [0, 0, 0, 0, 0, 1, 0, 0, 0, 0, 0, 0, 0, 0, 0, 0, 0, 0, 1, 0, 0, 0,\n",
       "        0, 0, 0, 0, 0, 0, 0, 0, 0, 0, 0, 0, 0, 0, 0, 0, 0, 0, 0, 0, 0, 0,\n",
       "        0, 0, 0, 1, 0, 0, 0, 1, 0, 1, 0],\n",
       "       [0, 1, 0, 0, 0, 0, 0, 0, 1, 0, 1, 0, 0, 0, 1, 0, 0, 0, 0, 0, 0, 0,\n",
       "        0, 0, 0, 1, 1, 0, 0, 0, 0, 0, 0, 1, 0, 0, 0, 0, 0, 0, 1, 0, 0, 0,\n",
       "        0, 0, 1, 0, 0, 0, 0, 0, 0, 0, 0],\n",
       "       [1, 1, 1, 1, 0, 0, 0, 0, 1, 1, 0, 0, 0, 0, 0, 0, 0, 0, 0, 0, 0, 0,\n",
       "        0, 1, 0, 0, 0, 0, 0, 0, 1, 0, 0, 0, 0, 0, 0, 0, 0, 0, 0, 0, 1, 0,\n",
       "        0, 0, 1, 0, 0, 0, 0, 0, 0, 0, 0],\n",
       "       [0, 0, 0, 0, 0, 0, 0, 1, 1, 0, 0, 0, 0, 0, 0, 0, 0, 1, 0, 0, 0, 1,\n",
       "        0, 0, 0, 0, 0, 0, 0, 0, 0, 0, 1, 0, 1, 0, 0, 0, 0, 1, 0, 1, 0, 0,\n",
       "        0, 0, 0, 0, 0, 0, 0, 0, 0, 0, 0],\n",
       "       [0, 0, 0, 0, 1, 0, 0, 1, 0, 0, 0, 0, 1, 0, 0, 0, 0, 0, 0, 0, 0, 0,\n",
       "        0, 0, 0, 0, 0, 0, 0, 0, 0, 0, 0, 0, 0, 1, 0, 0, 1, 0, 0, 1, 0, 0,\n",
       "        0, 0, 0, 0, 1, 0, 0, 0, 1, 0, 1]])"
      ]
     },
     "execution_count": 45,
     "metadata": {},
     "output_type": "execute_result"
    }
   ],
   "source": [
    "# converts to dense vector array (was sparse)\n",
    "transformed_vector.toarray()"
   ]
  },
  {
   "cell_type": "code",
   "execution_count": 46,
   "metadata": {},
   "outputs": [
    {
     "data": {
      "text/plain": [
       "[array(['data', 'discovering', 'large', 'mining', 'patterns', 'process',\n",
       "        'sets'], dtype='<U17'),\n",
       " array(['database', 'intersection', 'involving', 'learning', 'machine',\n",
       "        'methods', 'statistics', 'systems'], dtype='<U17'),\n",
       " array(['computer', 'data', 'goal', 'interdisciplinary', 'mining',\n",
       "        'overall', 'science', 'statistics', 'subfield'], dtype='<U17'),\n",
       " array(['dataset', 'extract', 'information', 'intelligent', 'methods'],\n",
       "       dtype='<U17'),\n",
       " array(['comprehensible', 'information', 'structure', 'transform', 'use'],\n",
       "       dtype='<U17'),\n",
       " array(['analysis', 'data', 'databases', 'discovery', 'kdd', 'knowledge',\n",
       "        'mining', 'process', 'step'], dtype='<U17'),\n",
       " array(['also', 'analysis', 'aside', 'aspects', 'data', 'database',\n",
       "        'involves', 'management', 'raw', 'step'], dtype='<U17'),\n",
       " array(['considerations', 'data', 'inference', 'interestingness',\n",
       "        'metrics', 'model', 'pre', 'processing'], dtype='<U17'),\n",
       " array(['complexity', 'considerations', 'discovered', 'online', 'post',\n",
       "        'processing', 'structures', 'updating', 'visualization'],\n",
       "       dtype='<U17')]"
      ]
     },
     "execution_count": 46,
     "metadata": {},
     "output_type": "execute_result"
    }
   ],
   "source": [
    "# re-generate sentence from transformed vector\n",
    "count_vectorizer.inverse_transform(transformed_vector)"
   ]
  },
  {
   "cell_type": "code",
   "execution_count": 50,
   "metadata": {},
   "outputs": [
    {
     "data": {
      "text/plain": [
       "array([[0, 0, 0, 0, 0, 0, 0, 0, 1, 1, 0, 0, 0, 0, 0, 0, 0, 0, 0, 0, 0, 0,\n",
       "        0, 0, 0, 0, 0, 0, 0, 0, 0, 0, 0, 0, 0, 0, 0, 0, 0, 0, 0, 0, 0, 0,\n",
       "        0, 0, 0, 0, 0, 0, 0, 0, 0, 0, 0]])"
      ]
     },
     "execution_count": 50,
     "metadata": {},
     "output_type": "execute_result"
    }
   ],
   "source": [
    "test_text = ['this is just a sample text for testing test_text database data']\n",
    "count_vectorizer.transform(test_text).toarray()"
   ]
  },
  {
   "cell_type": "code",
   "execution_count": null,
   "metadata": {},
   "outputs": [],
   "source": []
  }
 ],
 "metadata": {
  "kernelspec": {
   "display_name": "Python 3",
   "language": "python",
   "name": "python3"
  },
  "language_info": {
   "codemirror_mode": {
    "name": "ipython",
    "version": 3
   },
   "file_extension": ".py",
   "mimetype": "text/x-python",
   "name": "python",
   "nbconvert_exporter": "python",
   "pygments_lexer": "ipython3",
   "version": "3.6.8"
  }
 },
 "nbformat": 4,
 "nbformat_minor": 2
}
